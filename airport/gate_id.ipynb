{
 "cells": [
  {
   "cell_type": "code",
   "execution_count": 1,
   "metadata": {
    "collapsed": true
   },
   "outputs": [],
   "source": [
    "#/media/chen/新加卷/data_learn/tianchi_stround/da2\n",
    "import pandas as pd\n",
    "from dateutil.parser import parse \n",
    "import datetime\n",
    "import numpy as np\n",
    "import pylab as pl\n",
    "def imp_dat():\n",
    "\tdeparture=pd.read_csv(\"//media//chen//新加卷//data_learn//tianchi_stround//da2//airport_gz_departure_chusai_2ndround.csv\")\n",
    "\tflights=pd.read_csv(\"//media//chen//新加卷//data_learn//tianchi_stround//da2//airport_gz_flights_chusai_2ndround.csv\")\n",
    "\tgates=pd.read_csv(\"//media//chen//新加卷//data_learn//tianchi_stround//da2//airport_gz_gates.csv\")\n",
    "\tsecurity_check=pd.read_csv(\"//media//chen//新加卷//data_learn//tianchi_stround//da2//airport_gz_security_check_chusai_2ndround.csv\")\n",
    "\twifi_records=pd.read_csv(\"//media//chen//新加卷//data_learn//tianchi_stround//da2//WIFI_AP_Passenger_Records_chusai_2ndround.csv\")\n",
    "\treturn departure,flights,gates,security_check,wifi_records\n",
    "\n",
    "def mean_wifi(wifi_records):\n",
    "\trlines=wifi_records['timeStamp'].values\n",
    "\ttimeTen=[]\n",
    "\ttimeStr=[]\n",
    "\tfor i in rlines:\n",
    "\t\ttimeTen.append(int(i[8:16].replace('-',''))/10*10)\n",
    "\t\ttimeStr.append(i[:10])\n",
    "\n",
    "\twifi_records['timeTen']=timeTen\n",
    "\twifi_records['timeStr']=timeStr\n",
    "\n",
    "\tdfwftime=wifi_records.groupby(['WIFIAPTag','timeTen','timeStr'])\n",
    "\tdftenMean=dfwftime['passengerCount'].mean().reset_index()\n",
    "\n",
    "\ttimeTen_str=dftenMean['timeTen'].values.astype(str)\n",
    "\ttimeTen_str4=[]\n",
    "\tfor i in timeTen_str:\n",
    "\t\t\ttimeTen_str4.append(i[2:])\n",
    "\tdftenMean['timeTen_str']=timeTen_str\n",
    "\tdftenMean['timeTen_str4']=timeTen_str4\n",
    "\n",
    "\tslice10min=[]\n",
    "\tdftimeStr=dftenMean['timeStr'].values\n",
    "\tdftimeTen_str4=dftenMean['timeTen_str4'].values\n",
    "\tfor i in xrange(dftimeStr.shape[0]):\n",
    "\t\tslice10min.append(dftimeStr[i]+'-'+dftimeTen_str4[i][:2]+'-'+dftimeTen_str4[i][2])\n",
    "\tdftenMean['slice10min']=slice10min\n",
    "\n",
    "\t#### delete the surperfluous data and show the \"E1-1A-1<E1-1-01> \"data\n",
    "\n",
    "\twifi_all=dftenMean.drop(['timeTen','timeStr','timeTen_str','timeTen_str4'],axis=1)\n",
    "\t#wifi_all['timeTen_str4']=wifi_all['timeTen_str4'].astype(int)\n",
    "\n",
    "\t### 查看不同点的wifi数量\n",
    "\n",
    "\tdf=wifi_all.groupby(['WIFIAPTag','slice10min'])\n",
    "\trse=df.passengerCount.sum()\n",
    "\twifi_all_split=rse.unstack().T\n",
    "\treturn wifi_all_split"
   ]
  },
  {
   "cell_type": "code",
   "execution_count": 2,
   "metadata": {
    "collapsed": false
   },
   "outputs": [],
   "source": [
    "departure,flights,gates,security_check,wifi_records=imp_dat()\n",
    "wifi_all_split=mean_wifi(wifi_records)"
   ]
  },
  {
   "cell_type": "code",
   "execution_count": 19,
   "metadata": {
    "collapsed": true
   },
   "outputs": [],
   "source": [
    "### 各个时间段的wifi连接情况"
   ]
  },
  {
   "cell_type": "code",
   "execution_count": 1,
   "metadata": {
    "collapsed": true
   },
   "outputs": [],
   "source": [
    "import os"
   ]
  },
  {
   "cell_type": "code",
   "execution_count": 2,
   "metadata": {
    "collapsed": false
   },
   "outputs": [
    {
     "data": {
      "text/plain": [
       "'/media/chen/DATA/Anaconda2/code/Tianchi'"
      ]
     },
     "execution_count": 2,
     "metadata": {},
     "output_type": "execute_result"
    }
   ],
   "source": [
    "os.getcwd()"
   ]
  },
  {
   "cell_type": "code",
   "execution_count": 3,
   "metadata": {
    "collapsed": true
   },
   "outputs": [],
   "source": [
    "def getWIFIday11_24(wifi_all_split):    \n",
    "    wifi_day=[]\n",
    "    wifi_dayt=[]\n",
    "    for i in range(10,26):\n",
    "        tmp=[a  for a in wifi_all_split.index if a>='2016-09-'+str(i)+'-04-0' and a<='2016-09-'+str(i+1)+'-04-0']\n",
    "        tmpt=[a  for a in wifi_all_split.index if a<='2016-09-'+str(i)+'-17-5' and a>='2016-09-'+str(i)+'-15-0']\n",
    "        wifi_day.append(wifi_all_split.ix[tmp,:])\n",
    "        wifi_dayt.append(wifi_all_split.ix[tmpt,:])\n",
    "    return wifi_day,wifi_dayt\n",
    "day25=[i  for i in wifi_all_split.index if i>='2016-09-25-04-0' and i<='2016-09-26-04-0']\n",
    "day24=[i  for i in wifi_all_split.index if i>='2016-09-24-04-0' and i<='2016-09-25-04-0']\n",
    "day23=[i  for i in wifi_all_split.index if i>='2016-09-23-04-0' and i<='2016-09-24-04-0']\n",
    "day14=[i  for i in wifi_all_split.index if i>='2016-09-14-04-0' and i<='2016-09-15-04-0']\n",
    "day25t=[i  for i in wifi_all_split.index if i<='2016-09-25-17-5' and i>='2016-09-25-15-0']\n",
    "day24t=[i  for i in wifi_all_split.index if i<='2016-09-24-17-5' and i>='2016-09-24-15-0']\n",
    "day23t=[i  for i in wifi_all_split.index if i<='2016-09-23-17-5' and i>='2016-09-23-15-0']\n",
    "day14t=[i  for i in wifi_all_split.index if i<='2016-09-14-17-5' and i>='2016-09-14-15-0']\n",
    "wifi_a25=wifi_all_split.ix[day25,:]\n",
    "wifi_a24=wifi_all_split.ix[day24,:]\n",
    "wifi_a23=wifi_all_split.ix[day23,:]\n",
    "wifi_a14=wifi_all_split.ix[day14,:]\n",
    "wifi_a25t=wifi_all_split.ix[day25t,:]\n",
    "wifi_a24t=wifi_all_split.ix[day24t,:]\n",
    "wifi_a23t=wifi_all_split.ix[day23t,:]\n",
    "wifi_a14t=wifi_all_split.ix[day14t,:]\n",
    "\n",
    "wifi_day,wifi_dayt=getWIFIday11_24(wifi_all_split)"
   ]
  },
  {
   "cell_type": "code",
   "execution_count": 4,
   "metadata": {
    "collapsed": true
   },
   "outputs": [],
   "source": [
    "def getwifiArea():\n",
    "    wifiTag=wifi_day[1].columns\n",
    "    wi_dic={}\n",
    "    for a in wifiTag:\n",
    "        b=a[:2]\n",
    "        wi_dic[b]=wi_dic.get(b,[])+[a]\n",
    "    return wi_dic\n",
    "\n",
    "wi_dic=getwifiArea()"
   ]
  },
  {
   "cell_type": "code",
   "execution_count": 5,
   "metadata": {
    "collapsed": true
   },
   "outputs": [],
   "source": [
    "def getFla_gat(flights,gates):\n",
    "\tscheduled_flt=[parse(a)+datetime.timedelta(hours=8)  if type(a)==str else 0 for a in flights['scheduled_flt_time'].values]\n",
    "\tactual_flt=[parse(a)+datetime.timedelta(hours=8) if type(a)==str else 0  for a in flights['actual_flt_time'].values]\n",
    "\tflights['scheduled_flt'],flights['acutal_flt']=scheduled_flt,actual_flt\n",
    "\n",
    "\tflight_gate=pd.merge(flights,gates,on='BGATE_ID',how='left')\n",
    "\toneDay_time=[str(a)[11:19] for a in flight_gate['scheduled_flt'].values]\n",
    "\tflight_gate['timeInDay']=oneDay_time\n",
    "\n",
    "\tlate_timeAll=[]\n",
    "\tfor i in range(flight_gate.shape[0]):\n",
    "\t\tif flight_gate.ix[i,5]!=0:\n",
    "\t\t\tlate_timeAll.append(round((flight_gate.ix[i,5]-flight_gate.ix[i,4]).total_seconds(),0)/60)\n",
    "\t\telse:\n",
    "\t\t\tlate_timeAll.append(-1)    \n",
    "\tflight_gate['late_time/min']=late_timeAll\n",
    "\tid_flt=[]\n",
    "\tfor a in flight_gate.ix[:,['scheduled_flt','BGATE_ID']].astype(str).values:\n",
    "\t\tid_flt.append(a[0][-8:]+'_'+a[1])\n",
    "\tflight_gate['id_flt']=id_flt\n",
    "\ttmp=flight_gate\n",
    "\tdel tmp['scheduled_flt_time']\n",
    "\tdel tmp['actual_flt_time']\n",
    "\treturn tmp\n",
    "def separate_flight(flight_gate):\n",
    "    all_=[]\n",
    "    plane_fight_dic=[]\n",
    "    for i in xrange(10,26):\n",
    "        logi=[flight_gate.ix[a,'scheduled_flt']>=datetime.datetime(2016,9,i,4,0) and flight_gate.ix[a,'scheduled_flt']<datetime.datetime(2016,9,i+1,4,0)\n",
    "              for a in xrange(flight_gate.shape[0])]\n",
    "        ftmp=flight_gate[logi]\n",
    "        tmp_dic={}\n",
    "        for i in ftmp.ix[:,['flight_ID','id_flt']].values:\n",
    "            tmp_dic[i[1]]=tmp_dic.get(i[1],[])+[i[0]]\n",
    "        tmp_set=[]\n",
    "        for i in ftmp['id_flt'].values:\n",
    "            tmp_set.append(tmp_dic[i])\n",
    "        ftmp['flt_set']=tmp_set\n",
    "        all_.append(ftmp)\n",
    "        plane_fight_dic.append(tmp_dic)\n",
    "        \n",
    "    return all_,plane_fight_dic"
   ]
  },
  {
   "cell_type": "code",
   "execution_count": 6,
   "metadata": {
    "collapsed": false
   },
   "outputs": [],
   "source": [
    "flight_gate=getFla_gat(flights,gates)"
   ]
  },
  {
   "cell_type": "code",
   "execution_count": 7,
   "metadata": {
    "collapsed": false
   },
   "outputs": [
    {
     "name": "stderr",
     "output_type": "stream",
     "text": [
      "/usr/local/lib/python2.7/dist-packages/ipykernel/__main__.py:38: SettingWithCopyWarning: \n",
      "A value is trying to be set on a copy of a slice from a DataFrame.\n",
      "Try using .loc[row_indexer,col_indexer] = value instead\n",
      "\n",
      "See the caveats in the documentation: http://pandas.pydata.org/pandas-docs/stable/indexing.html#indexing-view-versus-copy\n"
     ]
    }
   ],
   "source": [
    "fl_gt,plane_flight_dic=separate_flight(flight_gate)"
   ]
  },
  {
   "cell_type": "code",
   "execution_count": 8,
   "metadata": {
    "collapsed": true
   },
   "outputs": [],
   "source": [
    "res=np.load(\"res_new.npy\")"
   ]
  },
  {
   "cell_type": "code",
   "execution_count": 9,
   "metadata": {
    "collapsed": false
   },
   "outputs": [],
   "source": [
    "def sec_fg_change(res,day,plane_flight_dic):\n",
    "    mm=day-10\n",
    "    fasd=res[0][mm].ix[:,['flight_ID','acutal_flt']].drop_duplicates().set_index('flight_ID')\n",
    "    res_cum=res[0][mm].groupby(['secTime','id_flt']).size().unstack().resample('10T').sum().fillna(0).cumsum()\n",
    "    index = pd.date_range('9/'+str(day)+'/2016 04:00:00', periods=144, freq='10T')\n",
    "    res_cum=res_cum.reindex(index)\n",
    "    all_=[]\n",
    "    tmp_dic=plane_flight_dic[mm]\n",
    "    for i in xrange(res_cum.shape[1]):\n",
    "        tmp=[]\n",
    "        fID=res_cum.columns[i]#id_flt,eg:'00:20:00_A116'\n",
    "        for ai in tmp_dic[fID]:\n",
    "            if ai in fasd.index:\n",
    "                flig_ID=ai\n",
    "        fTime=fasd.ix[flig_ID,:].values[0]\n",
    "        for i in res_cum.ix[:,i].reset_index().values:\n",
    "            if type(fTime)!=float and i[0]<fTime:\n",
    "                tmp.append(i[1])\n",
    "            else:\n",
    "                tmp.append(0)\n",
    "        all_.append(tmp) \n",
    "    df_=pd.DataFrame(np.array(all_),index=res_cum.columns,columns=res_cum.index).T\n",
    "    return df_"
   ]
  },
  {
   "cell_type": "code",
   "execution_count": 10,
   "metadata": {
    "collapsed": false
   },
   "outputs": [
    {
     "name": "stderr",
     "output_type": "stream",
     "text": [
      "<ipython-input-10-bd41785f0079>:1: SyntaxWarning: import * only allowed at module level\n",
      "  def getCoeff(area='E1'):\n"
     ]
    }
   ],
   "source": [
    "def getCoeff(area='E1'):\n",
    "    XX=[]\n",
    "    YY=[]\n",
    "    for day in xrange(11,25):\n",
    "        mm=day-10\n",
    "        rescum12=sec_fg_change(res,day,plane_flight_dic)\n",
    "        rescum12_E1=rescum12.ix[:,res[1][mm][area]].fillna(0)\n",
    "        from sympy.abc import *\n",
    "        par_abc=[ a,b,c,d,e,f,g,h,i,j,k, l, m, n, o, p, q, r, s, t, u, v, w, x, y]\n",
    "        rescum12_E1_prm=multi_parm(rescum12_E1)\n",
    "    \n",
    "        rescum12Facotr=factorMatrix(rescum12_E1_prm.sum(axis=1))#factors\n",
    "        x_=rescum12Facotr\n",
    "        y_=wifi_day[mm].ix[:,wi_dic[area]].sum(axis=1).values[1:]\n",
    "        XX=XX+x_.tolist()\n",
    "        YY=YY+y_.tolist()\n",
    "    return XX,YY"
   ]
  },
  {
   "cell_type": "code",
   "execution_count": 16,
   "metadata": {
    "collapsed": false
   },
   "outputs": [],
   "source": [
    "XX,YY=getCoeff(area=\"W1\")"
   ]
  },
  {
   "cell_type": "code",
   "execution_count": 17,
   "metadata": {
    "collapsed": false
   },
   "outputs": [],
   "source": [
    "xx_yy=(XX,YY)"
   ]
  },
  {
   "cell_type": "code",
   "execution_count": 18,
   "metadata": {
    "collapsed": true
   },
   "outputs": [],
   "source": [
    "np.save('XX_YY_W1.npy',xx_yy)"
   ]
  },
  {
   "cell_type": "code",
   "execution_count": 19,
   "metadata": {
    "collapsed": true
   },
   "outputs": [],
   "source": [
    "day=11\n",
    "mm=day-10\n",
    "area='E1'\n",
    "rescum12=sec_fg_change(res,day,plane_flight_dic)\n",
    "rescum12_E1=rescum12.ix[:,res[1][mm][area]].fillna(0)"
   ]
  },
  {
   "cell_type": "code",
   "execution_count": 23,
   "metadata": {
    "collapsed": false
   },
   "outputs": [],
   "source": [
    "from sklearn.linear_model import LinearRegression\n",
    "clf_lr=LinearRegression()"
   ]
  },
  {
   "cell_type": "code",
   "execution_count": 31,
   "metadata": {
    "collapsed": true
   },
   "outputs": [],
   "source": [
    "def dataTogate(area=\"E1\",day=11):\n",
    "    mm=day-10\n",
    "    rescum12=sec_fg_change(res,day,plane_flight_dic)\n",
    "    rescum12_E1=rescum12.ix[:,res[1][mm][area]].fillna(0)\n",
    "    XX,YY=np.load('XX_YY_'+area+'.npy')\n",
    "    clf_lr.fit(XX[:1440],YY[:1440])\n",
    "    par_abc=clf_lr.coef_.tolist()\n",
    "    res_data=multi_parm(rescum12_E1)\n",
    "    res_dataStack=res_data.unstack().reset_index()\n",
    "    bgate=[]\n",
    "    for i in res_dataStack['id_flt'].values:\n",
    "        bgate.append(i.split('_')[-1])\n",
    "    res_dataStack['bgate']=bgate\n",
    "    res_unstack=res_dataStack.groupby(['level_1','bgate']).sum().unstack()[0]\n",
    "    return res_unstack"
   ]
  },
  {
   "cell_type": "code",
   "execution_count": 32,
   "metadata": {
    "collapsed": false
   },
   "outputs": [
    {
     "data": {
      "text/plain": [
       "LinearRegression(copy_X=True, fit_intercept=True, n_jobs=1, normalize=False)"
      ]
     },
     "execution_count": 32,
     "metadata": {},
     "output_type": "execute_result"
    }
   ],
   "source": [
    "clf_lr.fit(XX[:1440],YY[:1440])"
   ]
  },
  {
   "cell_type": "code",
   "execution_count": 34,
   "metadata": {
    "collapsed": false
   },
   "outputs": [
    {
     "data": {
      "text/html": [
       "<div>\n",
       "<table border=\"1\" class=\"dataframe\">\n",
       "  <thead>\n",
       "    <tr style=\"text-align: right;\">\n",
       "      <th>bgate</th>\n",
       "      <th>A01</th>\n",
       "      <th>A02</th>\n",
       "      <th>A03</th>\n",
       "      <th>A04</th>\n",
       "      <th>A05</th>\n",
       "      <th>A101</th>\n",
       "      <th>A102</th>\n",
       "      <th>A103</th>\n",
       "      <th>A104</th>\n",
       "      <th>A105</th>\n",
       "      <th>A106</th>\n",
       "      <th>A107</th>\n",
       "      <th>A108</th>\n",
       "      <th>A109</th>\n",
       "      <th>A110</th>\n",
       "      <th>A111</th>\n",
       "    </tr>\n",
       "    <tr>\n",
       "      <th>level_1</th>\n",
       "      <th></th>\n",
       "      <th></th>\n",
       "      <th></th>\n",
       "      <th></th>\n",
       "      <th></th>\n",
       "      <th></th>\n",
       "      <th></th>\n",
       "      <th></th>\n",
       "      <th></th>\n",
       "      <th></th>\n",
       "      <th></th>\n",
       "      <th></th>\n",
       "      <th></th>\n",
       "      <th></th>\n",
       "      <th></th>\n",
       "      <th></th>\n",
       "    </tr>\n",
       "  </thead>\n",
       "  <tbody>\n",
       "    <tr>\n",
       "      <th>2016-09-12 03:10:00</th>\n",
       "      <td>0.0</td>\n",
       "      <td>0.0</td>\n",
       "      <td>0.0</td>\n",
       "      <td>0.0</td>\n",
       "      <td>0.936396</td>\n",
       "      <td>0.0</td>\n",
       "      <td>0.0</td>\n",
       "      <td>0.0</td>\n",
       "      <td>0.0</td>\n",
       "      <td>0.377437</td>\n",
       "      <td>0.448443</td>\n",
       "      <td>0.0</td>\n",
       "      <td>-0.113394</td>\n",
       "      <td>0.0</td>\n",
       "      <td>0.0</td>\n",
       "      <td>0.0</td>\n",
       "    </tr>\n",
       "    <tr>\n",
       "      <th>2016-09-12 03:20:00</th>\n",
       "      <td>0.0</td>\n",
       "      <td>0.0</td>\n",
       "      <td>0.0</td>\n",
       "      <td>0.0</td>\n",
       "      <td>0.000000</td>\n",
       "      <td>0.0</td>\n",
       "      <td>0.0</td>\n",
       "      <td>0.0</td>\n",
       "      <td>0.0</td>\n",
       "      <td>0.981292</td>\n",
       "      <td>-0.257794</td>\n",
       "      <td>0.0</td>\n",
       "      <td>-0.098905</td>\n",
       "      <td>0.0</td>\n",
       "      <td>0.0</td>\n",
       "      <td>0.0</td>\n",
       "    </tr>\n",
       "    <tr>\n",
       "      <th>2016-09-12 03:30:00</th>\n",
       "      <td>0.0</td>\n",
       "      <td>0.0</td>\n",
       "      <td>0.0</td>\n",
       "      <td>0.0</td>\n",
       "      <td>0.000000</td>\n",
       "      <td>0.0</td>\n",
       "      <td>0.0</td>\n",
       "      <td>0.0</td>\n",
       "      <td>0.0</td>\n",
       "      <td>0.000000</td>\n",
       "      <td>-0.224855</td>\n",
       "      <td>0.0</td>\n",
       "      <td>0.315764</td>\n",
       "      <td>0.0</td>\n",
       "      <td>0.0</td>\n",
       "      <td>0.0</td>\n",
       "    </tr>\n",
       "    <tr>\n",
       "      <th>2016-09-12 03:40:00</th>\n",
       "      <td>0.0</td>\n",
       "      <td>0.0</td>\n",
       "      <td>0.0</td>\n",
       "      <td>0.0</td>\n",
       "      <td>0.000000</td>\n",
       "      <td>0.0</td>\n",
       "      <td>0.0</td>\n",
       "      <td>0.0</td>\n",
       "      <td>0.0</td>\n",
       "      <td>0.000000</td>\n",
       "      <td>0.717869</td>\n",
       "      <td>0.0</td>\n",
       "      <td>0.820950</td>\n",
       "      <td>0.0</td>\n",
       "      <td>0.0</td>\n",
       "      <td>0.0</td>\n",
       "    </tr>\n",
       "    <tr>\n",
       "      <th>2016-09-12 03:50:00</th>\n",
       "      <td>0.0</td>\n",
       "      <td>0.0</td>\n",
       "      <td>0.0</td>\n",
       "      <td>0.0</td>\n",
       "      <td>0.000000</td>\n",
       "      <td>0.0</td>\n",
       "      <td>0.0</td>\n",
       "      <td>0.0</td>\n",
       "      <td>0.0</td>\n",
       "      <td>0.000000</td>\n",
       "      <td>1.866379</td>\n",
       "      <td>0.0</td>\n",
       "      <td>0.000000</td>\n",
       "      <td>0.0</td>\n",
       "      <td>0.0</td>\n",
       "      <td>0.0</td>\n",
       "    </tr>\n",
       "  </tbody>\n",
       "</table>\n",
       "</div>"
      ],
      "text/plain": [
       "bgate                A01  A02  A03  A04       A05  A101  A102  A103  A104  \\\n",
       "level_1                                                                     \n",
       "2016-09-12 03:10:00  0.0  0.0  0.0  0.0  0.936396   0.0   0.0   0.0   0.0   \n",
       "2016-09-12 03:20:00  0.0  0.0  0.0  0.0  0.000000   0.0   0.0   0.0   0.0   \n",
       "2016-09-12 03:30:00  0.0  0.0  0.0  0.0  0.000000   0.0   0.0   0.0   0.0   \n",
       "2016-09-12 03:40:00  0.0  0.0  0.0  0.0  0.000000   0.0   0.0   0.0   0.0   \n",
       "2016-09-12 03:50:00  0.0  0.0  0.0  0.0  0.000000   0.0   0.0   0.0   0.0   \n",
       "\n",
       "bgate                    A105      A106  A107      A108  A109  A110  A111  \n",
       "level_1                                                                    \n",
       "2016-09-12 03:10:00  0.377437  0.448443   0.0 -0.113394   0.0   0.0   0.0  \n",
       "2016-09-12 03:20:00  0.981292 -0.257794   0.0 -0.098905   0.0   0.0   0.0  \n",
       "2016-09-12 03:30:00  0.000000 -0.224855   0.0  0.315764   0.0   0.0   0.0  \n",
       "2016-09-12 03:40:00  0.000000  0.717869   0.0  0.820950   0.0   0.0   0.0  \n",
       "2016-09-12 03:50:00  0.000000  1.866379   0.0  0.000000   0.0   0.0   0.0  "
      ]
     },
     "execution_count": 34,
     "metadata": {},
     "output_type": "execute_result"
    }
   ],
   "source": [
    "dataTogate().tail()"
   ]
  },
  {
   "cell_type": "code",
   "execution_count": 400,
   "metadata": {
    "collapsed": false
   },
   "outputs": [
    {
     "data": {
      "image/png": "[encoded data removed]",
      "text/plain": [
       "<matplotlib.figure.Figure at 0x7f3e114fc250>"
      ]
     },
     "metadata": {},
     "output_type": "display_data"
    }
   ],
   "source": [
    "pl.plot(dataTogate(day=11).ix[:,'A01'].values)\n",
    "pl.plot(dataTogate(day=12).ix[:,'A01'].values)\n",
    "pl.plot(dataTogate(day=13).ix[:,'A01'].values)\n",
    "pl.plot(dataTogate(day=14).ix[:,'A01'].values)\n",
    "pl.show()"
   ]
  },
  {
   "cell_type": "code",
   "execution_count": 36,
   "metadata": {
    "collapsed": false
   },
   "outputs": [
    {
     "data": {
      "image/png": "[encoded data removed]",
      "text/plain": [
       "<matplotlib.figure.Figure at 0x7efd8c418e10>"
      ]
     },
     "metadata": {},
     "output_type": "display_data"
    }
   ],
   "source": [
    "pl.subplot(411)\n",
    "pl.plot(dataTogate(day=11).ix[:,'A01'].values)\n",
    "pl.subplot(412)\n",
    "pl.plot(dataTogate(day=12).ix[:,'A01'].values)\n",
    "pl.subplot(413)\n",
    "pl.plot(dataTogate(day=13).ix[:,'A01'].values)\n",
    "pl.subplot(414)\n",
    "pl.plot(dataTogate(day=14).ix[:,'A01'].values)\n",
    "pl.show()"
   ]
  },
  {
   "cell_type": "code",
   "execution_count": 408,
   "metadata": {
    "collapsed": false
   },
   "outputs": [
    {
     "data": {
      "image/png": "[encoded data removed]",
      "text/plain": [
       "<matplotlib.figure.Figure at 0x7f3e1159f190>"
      ]
     },
     "metadata": {},
     "output_type": "display_data"
    }
   ],
   "source": [
    "pl.plot(dataTogate(day=12).sum(axis=1).values[66:84])\n",
    "pl.plot(dataTogate(day=13).sum(axis=1).values[66:84])\n",
    "pl.plot(dataTogate(day=14).sum(axis=1).values[66:84])\n",
    "pl.plot(dataTogate(day=15).sum(axis=1).values[66:84])\n",
    "pl.show()"
   ]
  },
  {
   "cell_type": "code",
   "execution_count": 37,
   "metadata": {
    "collapsed": false
   },
   "outputs": [
    {
     "data": {
      "image/png": "[encoded data removed]",
      "text/plain": [
       "<matplotlib.figure.Figure at 0x7efd8c2cd8d0>"
      ]
     },
     "metadata": {},
     "output_type": "display_data"
    }
   ],
   "source": [
    "pl.plot(wifi_day[2].ix[:,1].values[66:84])\n",
    "pl.plot(wifi_day[3].ix[:,1].values[66:84])\n",
    "pl.plot(wifi_day[4].ix[:,1].values[66:84])\n",
    "pl.plot(wifi_day[5].ix[:,1].values[66:84])\n",
    "pl.show()"
   ]
  },
  {
   "cell_type": "code",
   "execution_count": 311,
   "metadata": {
    "collapsed": true
   },
   "outputs": [],
   "source": [
    "syms=[]\n",
    "for i in xrange(40):\n",
    "    syms.append('a_'+str(i))\n",
    "par_abc=sympy.symbols(syms)"
   ]
  },
  {
   "cell_type": "code",
   "execution_count": 26,
   "metadata": {
    "collapsed": true
   },
   "outputs": [],
   "source": [
    "import sympy\n",
    "from sympy.abc import *\n",
    "syms=[]\n",
    "for i in xrange(25):\n",
    "    syms.append('a_'+str(i))\n",
    "par_abc=sympy.symbols(syms)\n",
    "#par_abc=[ a,b,c,d,e,f,g,h,i,j,k, l, m, n, o, p, q, r, s, t, u, v, w, x, y]\n",
    "def multi_parm(df):\n",
    "\tallParme=[]\n",
    "\tparmes=np.array(par_abc+[0.4]*150)\n",
    "\tfor jj in range(df.shape[1]):\n",
    "\t\tdat=[]\n",
    "\t\tkk=0\n",
    "\t\tfor ii in range(df.shape[0]-1,-1,-1):        \n",
    "\t\t\tif df.ix[ii,jj]!=0:\n",
    "\t\t\t\tdat.append(df.ix[ii,jj]*parmes[kk])\n",
    "\t\t\t\tkk=kk+1\n",
    "\t\t\telse:\n",
    "\t\t\t\tdat.append(0)\n",
    "\t\tdat.reverse()\n",
    "\t\tallParme.append(dat)\n",
    "\treturn pd.DataFrame(allParme,index=df.columns,columns=df.index).T\n",
    "\n",
    "def getFactor(spy,parms=par_abc):\n",
    "    if type(spy)!=type(1*a) and type(spy)!=type(1*a+3*b):\n",
    "        return np.array([0]*25)\n",
    "    if spy.is_Add is False:\n",
    "        tmp=[]\n",
    "        for j in parms:\n",
    "            tmp.append(int(spy.coeff(j)))\n",
    "        return np.array(tmp)    \n",
    "    args=spy.args\n",
    "    num_list=np.array([0]*25)\n",
    "    for i in args:\n",
    "        tmp=[]\n",
    "        for j in parms:\n",
    "            tmp.append(int(i.coeff(j)))\n",
    "        num_list=num_list+np.array(tmp)        \n",
    "    return np.array(num_list)\n",
    "\n",
    "def factorMatrix(p1):\n",
    "    tmp=[]\n",
    "    for i in p1:\n",
    "        tmp.append(getFactor(i))\n",
    "    return np.array(tmp)    "
   ]
  },
  {
   "cell_type": "code",
   "execution_count": 80,
   "metadata": {
    "collapsed": true
   },
   "outputs": [],
   "source": [
    "a,b,c,d,e,f,g,h,i,j,k, l, m, n, o, p, q, r, s, t, u, v, w, x, y=-5.02237765e-02,-6.12076564e-02,-5.95681529e-02,-9.71445147e-17,-2.75578958e-02,1.81351769e-02,7.20647286e-02,1.17688079e-01,1.48106019e-01,1.49128794e-01,1.59051660e-01,1.61608627e-01,1.60593699e-01,1.54939746e-01,1.77583287e-01,2.09299303e-01,2.71817303e-01,3.30251103e-01,3.98328330e-01,4.54076074e-01,4.54955836e-01,4.69440288e-01,4.90823422e-01,5.76177158e-01,7.73396286e-01\n",
    "tmp_mulParm=multi_parm(res12_gate)"
   ]
  },
  {
   "cell_type": "markdown",
   "metadata": {},
   "source": [
    "#### LSTM"
   ]
  },
  {
   "cell_type": "code",
   "execution_count": 38,
   "metadata": {
    "collapsed": false
   },
   "outputs": [
    {
     "name": "stderr",
     "output_type": "stream",
     "text": [
      "Using Theano backend.\n"
     ]
    }
   ],
   "source": [
    "import keras"
   ]
  },
  {
   "cell_type": "code",
   "execution_count": 41,
   "metadata": {
    "collapsed": true
   },
   "outputs": [],
   "source": [
    "from keras.layers.core import Dense, Activation, Dropout\n",
    "from keras.layers.recurrent import LSTM\n",
    "from keras.models import Sequential"
   ]
  },
  {
   "cell_type": "code",
   "execution_count": 42,
   "metadata": {
    "collapsed": false
   },
   "outputs": [
    {
     "ename": "TypeError",
     "evalue": "__init__() takes at least 2 arguments (1 given)",
     "output_type": "error",
     "traceback": [
      "\u001b[0;31m---------------------------------------------------------------------------\u001b[0m",
      "\u001b[0;31mTypeError\u001b[0m                                 Traceback (most recent call last)",
      "\u001b[0;32m<ipython-input-42-5a765071539c>\u001b[0m in \u001b[0;36m<module>\u001b[0;34m()\u001b[0m\n\u001b[1;32m      1\u001b[0m \u001b[0mmodel\u001b[0m\u001b[0;34m=\u001b[0m\u001b[0mSequential\u001b[0m\u001b[0;34m(\u001b[0m\u001b[0;34m)\u001b[0m\u001b[0;34m\u001b[0m\u001b[0m\n\u001b[0;32m----> 2\u001b[0;31m \u001b[0mmodel\u001b[0m\u001b[0;34m.\u001b[0m\u001b[0madd\u001b[0m\u001b[0;34m(\u001b[0m\u001b[0mLSTM\u001b[0m\u001b[0;34m(\u001b[0m\u001b[0;34m)\u001b[0m\u001b[0;34m)\u001b[0m\u001b[0;34m\u001b[0m\u001b[0m\n\u001b[0m",
      "\u001b[0;31mTypeError\u001b[0m: __init__() takes at least 2 arguments (1 given)"
     ]
    }
   ],
   "source": [
    "model=Sequential()\n",
    "model.add(LSTM())"
   ]
  },
  {
   "cell_type": "code",
   "execution_count": null,
   "metadata": {
    "collapsed": true
   },
   "outputs": [],
   "source": []
  }
 ],
 "metadata": {
  "kernelspec": {
   "display_name": "Python 2",
   "language": "python",
   "name": "python2"
  },
  "language_info": {
   "codemirror_mode": {
    "name": "ipython",
    "version": 2
   },
   "file_extension": ".py",
   "mimetype": "text/x-python",
   "name": "python",
   "nbconvert_exporter": "python",
   "pygments_lexer": "ipython2",
   "version": "2.7.12"
  }
 },
 "nbformat": 4,
 "nbformat_minor": 1
}
